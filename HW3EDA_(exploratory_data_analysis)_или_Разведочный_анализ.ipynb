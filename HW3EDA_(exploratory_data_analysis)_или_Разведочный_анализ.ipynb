{
  "nbformat": 4,
  "nbformat_minor": 0,
  "metadata": {
    "colab": {
      "provenance": [],
      "authorship_tag": "ABX9TyNFoClYMKOW9AsPMuxmlPcb",
      "include_colab_link": true
    },
    "kernelspec": {
      "name": "python3",
      "display_name": "Python 3"
    },
    "language_info": {
      "name": "python"
    }
  },
  "cells": [
    {
      "cell_type": "markdown",
      "metadata": {
        "id": "view-in-github",
        "colab_type": "text"
      },
      "source": [
        "<a href=\"https://colab.research.google.com/github/pavlihinav/Theoriaofprobability_HW/blob/main/HW3EDA_(exploratory_data_analysis)_%D0%B8%D0%BB%D0%B8_%D0%A0%D0%B0%D0%B7%D0%B2%D0%B5%D0%B4%D0%BE%D1%87%D0%BD%D1%8B%D0%B9_%D0%B0%D0%BD%D0%B0%D0%BB%D0%B8%D0%B7.ipynb\" target=\"_parent\"><img src=\"https://colab.research.google.com/assets/colab-badge.svg\" alt=\"Open In Colab\"/></a>"
      ]
    },
    {
      "cell_type": "markdown",
      "source": [
        "**Задача 1**\n",
        "\n",
        "Даны значения зарплат из выборки выпускников: 100, 80, 75, 77, 89, 33, 45, 25, 65, 17, 30, 24, 57, 55, 70, 75, 65, 84, 90, 150.\n",
        "\n",
        "Посчитать (желательно без использования статистических методов наподобие std, var, mean)\n",
        "среднее арифметическое, среднее квадратичное отклонение, смещенную и несмещенную оценки дисперсий для данной выборки.\n"
      ],
      "metadata": {
        "id": "fufj6DK6wHry"
      }
    },
    {
      "cell_type": "code",
      "execution_count": 1,
      "metadata": {
        "id": "sQNqJYZKv0dJ"
      },
      "outputs": [],
      "source": [
        "from math import factorial"
      ]
    },
    {
      "cell_type": "code",
      "source": [
        "def combinations(n, k):\n",
        "    return int(factorial(n) / (factorial(k) * factorial(n - k)))"
      ],
      "metadata": {
        "id": "j_DlT5uowXOh"
      },
      "execution_count": 2,
      "outputs": []
    },
    {
      "cell_type": "code",
      "source": [
        "salary = [100, 80, 75, 77, 89, 33, 45, 25, 65, 17, 30, 24, 57, 55, 70, 75, 65, 84, 90, 150]\n",
        "m = sum(salary)/len(salary)"
      ],
      "metadata": {
        "id": "D-SiRdRLwb_6"
      },
      "execution_count": 3,
      "outputs": []
    },
    {
      "cell_type": "code",
      "source": [
        "print(f\"среднее арифметическое: {m}\")"
      ],
      "metadata": {
        "colab": {
          "base_uri": "https://localhost:8080/"
        },
        "id": "ggdKtwmmwfVZ",
        "outputId": "a924ed7e-a29c-4d6b-b2d6-81a0794a58cc"
      },
      "execution_count": 4,
      "outputs": [
        {
          "output_type": "stream",
          "name": "stdout",
          "text": [
            "среднее арифметическое: 65.3\n"
          ]
        }
      ]
    },
    {
      "cell_type": "code",
      "source": [
        "ds = 0\n",
        "for i in salary:\n",
        "  ds += (i - m) ** 2\n",
        "ds1 = ds / len(salary)"
      ],
      "metadata": {
        "id": "bllE4Ws2wqCe"
      },
      "execution_count": 5,
      "outputs": []
    },
    {
      "cell_type": "code",
      "source": [
        "print(f\"смещенная оценки дисперсий: {ds1}\")"
      ],
      "metadata": {
        "colab": {
          "base_uri": "https://localhost:8080/"
        },
        "id": "su1oSSJewrlW",
        "outputId": "5206e668-f6be-43f9-96aa-2e7b214ff760"
      },
      "execution_count": 6,
      "outputs": [
        {
          "output_type": "stream",
          "name": "stdout",
          "text": [
            "смещенная оценки дисперсий: 950.11\n"
          ]
        }
      ]
    },
    {
      "cell_type": "code",
      "source": [
        "ds = 0\n",
        "for i in salary:\n",
        "  ds += (i - m) ** 2\n",
        "result = ds / (len(salary) - 1)"
      ],
      "metadata": {
        "id": "3x6rIBl8wvYt"
      },
      "execution_count": 7,
      "outputs": []
    },
    {
      "cell_type": "code",
      "source": [
        "print(f\"несмещенная оценки дисперсий: {result}\")"
      ],
      "metadata": {
        "colab": {
          "base_uri": "https://localhost:8080/"
        },
        "id": "x76ghNGRw0li",
        "outputId": "2e573b53-fb28-4ef5-f15a-8f594d9b0c77"
      },
      "execution_count": 8,
      "outputs": [
        {
          "output_type": "stream",
          "name": "stdout",
          "text": [
            "несмещенная оценки дисперсий: 1000.1157894736842\n"
          ]
        }
      ]
    },
    {
      "cell_type": "code",
      "source": [
        "result = ds1 ** 0.5"
      ],
      "metadata": {
        "id": "KjWZ2LIlw46l"
      },
      "execution_count": 9,
      "outputs": []
    },
    {
      "cell_type": "code",
      "source": [
        "print(f\"среднее квадратичное отклонение: {result}\")"
      ],
      "metadata": {
        "colab": {
          "base_uri": "https://localhost:8080/"
        },
        "id": "MUQl7Xt0w95G",
        "outputId": "2c503880-889e-45b0-a978-2fe8794abb55"
      },
      "execution_count": 10,
      "outputs": [
        {
          "output_type": "stream",
          "name": "stdout",
          "text": [
            "среднее квадратичное отклонение: 30.823854398825596\n"
          ]
        }
      ]
    },
    {
      "cell_type": "markdown",
      "source": [
        "**Задача 2**\n",
        "\n",
        "В первом ящике находится 8 мячей, из которых 5 - белые. Во втором ящике - 12 мячей, из которых 5 белых.\n",
        "\n",
        "Из первого ящика вытаскивают случайным образом два мяча, из второго - 4.\n",
        "\n",
        "Какова вероятность того, что 3 мяча белые?"
      ],
      "metadata": {
        "id": "WAJs1EeXxHTb"
      }
    },
    {
      "cell_type": "code",
      "source": [
        "p1 = combinations(5, 2) / combinations(8, 2) * combinations(5, 1) * combinations(7, 3) / combinations(12, 4)\n",
        "p2 = combinations(5, 1) * combinations(3, 1) / combinations(8, 2) * combinations(5, 2) * combinations(7, 2) / combinations(12, 4)\n",
        "p3 = combinations(3, 2) / combinations(8, 2) * combinations(5, 3) * combinations(7, 1) / combinations(12, 4)\n",
        "result = p1 + p2 + p3"
      ],
      "metadata": {
        "id": "e6nvexbAxL5m"
      },
      "execution_count": 11,
      "outputs": []
    },
    {
      "cell_type": "code",
      "source": [
        "print(\"Какова вероятность того, что 3 мяча белые?\")\n",
        "print(f\"Ответ: {result}\")"
      ],
      "metadata": {
        "colab": {
          "base_uri": "https://localhost:8080/"
        },
        "id": "d6ScbBZ2xP-g",
        "outputId": "be4ec5b8-aa66-40b0-b4b0-8e22b38d9fb3"
      },
      "execution_count": 12,
      "outputs": [
        {
          "output_type": "stream",
          "name": "stdout",
          "text": [
            "Какова вероятность того, что 3 мяча белые?\n",
            "Ответ: 0.3686868686868686\n"
          ]
        }
      ]
    },
    {
      "cell_type": "markdown",
      "source": [
        "**Задача 3.**\n",
        " На соревновании по биатлону один из трех спортсменов стреляет и попадает в мишень.\n",
        "\n",
        " Вероятность попадания для первого спортсмена равна 0.9, для второго — 0.8, для третьего — 0.6.\n",
        "\n",
        " Найти вероятность того, что выстрел произведен: a). первым спортсменом б). вторым спортсменом в). третьим спортсменом."
      ],
      "metadata": {
        "id": "UtOCVuOrxX56"
      }
    },
    {
      "cell_type": "code",
      "source": [
        "p = 1/3 * 0.9 + 1/3 * 0.8 + 1/3 * 0.6\n",
        "\n",
        "result1 = 1/3 * 0.9 / p\n",
        "result2 = 1/3 * 0.8 / p\n",
        "result3 = 1/3 * 0.6 / p"
      ],
      "metadata": {
        "id": "UgA26zGXxhCm"
      },
      "execution_count": 13,
      "outputs": []
    },
    {
      "cell_type": "code",
      "source": [
        "print(f\"первым спортсменом: {result1}\")\n",
        "print(f\"вторым спортсменом: {result2}\")\n",
        "print(f\"третьим спортсменом: {result3}\")"
      ],
      "metadata": {
        "colab": {
          "base_uri": "https://localhost:8080/"
        },
        "id": "Fl7mtoAnxnzS",
        "outputId": "172a23b4-f8c9-4ee2-fe94-0e67fd22cdc9"
      },
      "execution_count": 14,
      "outputs": [
        {
          "output_type": "stream",
          "name": "stdout",
          "text": [
            "первым спортсменом: 0.391304347826087\n",
            "вторым спортсменом: 0.3478260869565218\n",
            "третьим спортсменом: 0.2608695652173913\n"
          ]
        }
      ]
    },
    {
      "cell_type": "markdown",
      "source": [
        "**Задача 4.**\n",
        "\n",
        " В университет на факультеты A и B поступило равное количество студентов, а на факультет C студентов поступило столько же, сколько на A и B вместе.\n",
        "\n",
        " Вероятность того, что студент факультета A сдаст первую сессию, равна 0.8.\n",
        "\n",
        "  Для студента факультета B эта вероятность равна 0.7, а для студента факультета C - 0.9.\n",
        "  \n",
        "  Студент сдал первую сессию. Какова вероятность, что он учится:\n",
        "\n",
        "   a). на факультете A\n",
        "\n",
        "   б). на факультете B\n",
        "   \n",
        "   в). на факультете C?"
      ],
      "metadata": {
        "id": "yKWC8VFSxsi6"
      }
    },
    {
      "cell_type": "code",
      "source": [
        "p = 1/4 * 0.8 + 1/4 * 0.7 + 2/4 * 0.9\n",
        "\n",
        "result1 = 1/4 * 0.8 / p\n",
        "result2 = 1/4 * 0.7 / p\n",
        "result3 = 2/4 * 0.9 / p"
      ],
      "metadata": {
        "id": "4UJNXOieyCIp"
      },
      "execution_count": 15,
      "outputs": []
    },
    {
      "cell_type": "code",
      "source": [
        "print(f\"на факультете А: {result1}\")\n",
        "print(f\"на факультете В: {result2}\")\n",
        "print(f\"на факультете С: {result3}\")"
      ],
      "metadata": {
        "colab": {
          "base_uri": "https://localhost:8080/"
        },
        "id": "G4lgWN2byPr9",
        "outputId": "76323162-d981-49bf-b314-3a5039c24809"
      },
      "execution_count": 17,
      "outputs": [
        {
          "output_type": "stream",
          "name": "stdout",
          "text": [
            "на факультете А: 0.24242424242424246\n",
            "на факультете В: 0.21212121212121213\n",
            "на факультете С: 0.5454545454545455\n"
          ]
        }
      ]
    },
    {
      "cell_type": "markdown",
      "source": [
        "**Задача 5. **\n",
        "\n",
        "Устройство состоит из трех деталей. Для первой детали вероятность выйти из строя в первый месяц равна 0.1, для второй - 0.2, для третьей - 0.25. Какова вероятность того, что в первый месяц выйдут из строя: а). все детали б). только две детали в). хотя бы одна деталь г). от одной до двух деталей?"
      ],
      "metadata": {
        "id": "oUKDPf6RyoTq"
      }
    },
    {
      "cell_type": "code",
      "source": [
        "p1 = 0.1\n",
        "p2 = 0.2\n",
        "p3 = 0.25\n",
        "\n",
        "q1 = 1 - p1\n",
        "q2 = 1 - p2\n",
        "q3 = 1 - p3\n",
        "\n",
        "\n",
        "result1 = p1 * p2 * p3\n",
        "result2 = p1 * p2 * q3  +  p1 * q2 * p3  +  q1 * p2 * p3\n",
        "result3 = 1 - q1 * q2 * q3\n",
        "result4 = p1 * q2 * q3  +  q1 * p2 * q3  +  q1 * q2 * p3 + result2"
      ],
      "metadata": {
        "id": "H0gTToKfysVH"
      },
      "execution_count": 18,
      "outputs": []
    },
    {
      "cell_type": "code",
      "source": [
        "print(f\"все детали: {result1}\")\n",
        "print(f\"только две детали: {result2}\")\n",
        "print(f\"хотя бы одна деталь: {result3}\")\n",
        "print(f\"от одной до двух деталей: {result4}\")"
      ],
      "metadata": {
        "colab": {
          "base_uri": "https://localhost:8080/"
        },
        "id": "77Uek0h8yx9L",
        "outputId": "3991821e-c48b-4726-9f34-e22cc4ef4cf8"
      },
      "execution_count": 19,
      "outputs": [
        {
          "output_type": "stream",
          "name": "stdout",
          "text": [
            "все детали: 0.005000000000000001\n",
            "только две детали: 0.08000000000000002\n",
            "хотя бы одна деталь: 0.45999999999999996\n",
            "от одной до двух деталей: 0.455\n"
          ]
        }
      ]
    }
  ]
}