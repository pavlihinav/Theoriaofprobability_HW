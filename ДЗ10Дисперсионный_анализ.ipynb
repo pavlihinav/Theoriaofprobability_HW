{
  "nbformat": 4,
  "nbformat_minor": 0,
  "metadata": {
    "colab": {
      "provenance": [],
      "authorship_tag": "ABX9TyOGKOw7a5DNZ0LTcTML71DB",
      "include_colab_link": true
    },
    "kernelspec": {
      "name": "python3",
      "display_name": "Python 3"
    },
    "language_info": {
      "name": "python"
    }
  },
  "cells": [
    {
      "cell_type": "markdown",
      "metadata": {
        "id": "view-in-github",
        "colab_type": "text"
      },
      "source": [
        "<a href=\"https://colab.research.google.com/github/pavlihinav/Theoriaofprobability_HW/blob/main/%D0%94%D0%9710%D0%94%D0%B8%D1%81%D0%BF%D0%B5%D1%80%D1%81%D0%B8%D0%BE%D0%BD%D0%BD%D1%8B%D0%B9_%D0%B0%D0%BD%D0%B0%D0%BB%D0%B8%D0%B7.ipynb\" target=\"_parent\"><img src=\"https://colab.research.google.com/assets/colab-badge.svg\" alt=\"Open In Colab\"/></a>"
      ]
    },
    {
      "cell_type": "markdown",
      "source": [
        "**ЗАДАЧА 1**\n",
        "\n",
        "Провести дисперсионный анализ для определения того, есть ли различия среднего роста среди взрослых футболистов, хоккеистов и штангистов.\n",
        "Даны значения роста в трех группах случайно выбранных спортсменов:\n",
        "\n",
        " Футболисты: 173, 175, 180, 178, 177, 185, 183, 182.\n",
        "\n",
        " Хоккеисты: 177, 179, 180, 188, 177, 172, 171, 184, 180.\n",
        "\n",
        " Штангисты: 172, 173, 169, 177, 166, 180, 178, 177, 172, 166, 170."
      ],
      "metadata": {
        "id": "VXz2m7OJX46t"
      }
    },
    {
      "cell_type": "code",
      "execution_count": 1,
      "metadata": {
        "id": "Zc6Y3JqrXzAg"
      },
      "outputs": [],
      "source": [
        "import numpy as np\n",
        "from scipy import stats"
      ]
    },
    {
      "cell_type": "code",
      "source": [
        "fp = np.array([173, 175, 180, 178, 177, 185, 183, 182], dtype = np.float64)\n",
        "hp = np.array([177, 179, 180, 188, 177, 172, 171, 184, 180], dtype = np.float64)\n",
        "wl = np.array([172, 173, 169, 177, 166, 180, 178, 177, 172, 166, 170], dtype = np.float64)"
      ],
      "metadata": {
        "id": "DKjMS7SaYh2a"
      },
      "execution_count": 2,
      "outputs": []
    },
    {
      "cell_type": "code",
      "source": [
        "n1 = fp.shape[0]\n",
        "n2 = hp.shape[0]\n",
        "n3 = wl.shape[0]"
      ],
      "metadata": {
        "id": "Usz6kIIxYo-v"
      },
      "execution_count": 3,
      "outputs": []
    },
    {
      "cell_type": "code",
      "source": [
        "fp_mean = fp.mean()\n",
        "hp_mean = hp.mean()\n",
        "wl_mean = wl.mean()"
      ],
      "metadata": {
        "id": "uCn8qMnZYtUC"
      },
      "execution_count": 4,
      "outputs": []
    },
    {
      "cell_type": "code",
      "source": [
        "print(f\"Среднее значение роста футболистов = {fp_mean:.2f}\")\n",
        "print(f\"Среднее значение роста хоккеистов = {hp_mean:.2f}\")\n",
        "print(f\"Среднее значение роста штангистов = {wl_mean:.2f}\")"
      ],
      "metadata": {
        "colab": {
          "base_uri": "https://localhost:8080/"
        },
        "id": "C_F891EuY1JS",
        "outputId": "b2137eca-fee1-497a-ff59-1946599aa3eb"
      },
      "execution_count": 5,
      "outputs": [
        {
          "output_type": "stream",
          "name": "stdout",
          "text": [
            "Среднее значение роста футболистов = 179.12\n",
            "Среднее значение роста хоккеистов = 178.67\n",
            "Среднее значение роста штангистов = 172.73\n"
          ]
        }
      ]
    },
    {
      "cell_type": "code",
      "source": [
        "y = np.concatenate([fp, hp, wl])\n",
        "y_mean = y.mean()"
      ],
      "metadata": {
        "id": "4pl220gAY53l"
      },
      "execution_count": 6,
      "outputs": []
    },
    {
      "cell_type": "code",
      "source": [
        "print(f\"Среднее значение роста спортсменов = {y_mean:.2f}\")"
      ],
      "metadata": {
        "colab": {
          "base_uri": "https://localhost:8080/"
        },
        "id": "z494hFgOZCv3",
        "outputId": "276851b6-c85d-48dc-8207-ad03cf6e02c7"
      },
      "execution_count": 7,
      "outputs": [
        {
          "output_type": "stream",
          "name": "stdout",
          "text": [
            "Среднее значение роста спортсменов = 176.46\n"
          ]
        }
      ]
    },
    {
      "cell_type": "code",
      "source": [
        "S2_F = n1 * (fp_mean - y_mean) ** 2 + n2 * (hp_mean - y_mean) ** 2 + n3 * (wl_mean - y_mean) ** 2\n",
        "S2_res = ((fp - fp_mean) ** 2).sum() + ((hp - hp_mean) ** 2).sum() + ((wl - wl_mean) ** 2).sum()\n",
        "\n",
        "S2 = ((y - y_mean) ** 2).sum()"
      ],
      "metadata": {
        "id": "p5qnFQs8ZINS"
      },
      "execution_count": 8,
      "outputs": []
    },
    {
      "cell_type": "code",
      "source": [
        "print(f\" Sf^2 = {S2_F:.2f}\")\n",
        "print(f\" Sres^2 = {S2_res:.2f}\")\n",
        "print()\n",
        "print(f\" S^2 = Sf^2 + Sres^2\")\n",
        "print(f\"{S2:.2f} = {S2_F + S2_res:.2f}\")"
      ],
      "metadata": {
        "colab": {
          "base_uri": "https://localhost:8080/"
        },
        "id": "UMD10fFOZOBM",
        "outputId": "ee50bdd4-ddb6-4b64-939b-f16e02b9af54"
      },
      "execution_count": 9,
      "outputs": [
        {
          "output_type": "stream",
          "name": "stdout",
          "text": [
            " Sf^2 = 253.91\n",
            " Sres^2 = 577.06\n",
            "\n",
            " S^2 = Sf^2 + Sres^2\n",
            "830.96 = 830.96\n"
          ]
        }
      ]
    },
    {
      "cell_type": "code",
      "source": [
        "k = 3\n",
        "n = n1 + n2 + n3\n",
        "\n",
        "k1 = k - 1\n",
        "k2 = n - k\n",
        "\n",
        "sigma2_F = S2_F / k1\n",
        "sigma2_res = S2_res / k2"
      ],
      "metadata": {
        "id": "PrmXexrvZTMK"
      },
      "execution_count": 12,
      "outputs": []
    },
    {
      "cell_type": "code",
      "source": [
        "print(f\"Факторная дисперсия = {sigma2_F:.2f}\")\n",
        "print(f\"Остаточная дисперсия = {sigma2_res:.2f}\")"
      ],
      "metadata": {
        "colab": {
          "base_uri": "https://localhost:8080/"
        },
        "id": "2rNhSSV2ZX_T",
        "outputId": "86d25c59-451a-43de-e186-b1eb33e6482b"
      },
      "execution_count": 13,
      "outputs": [
        {
          "output_type": "stream",
          "name": "stdout",
          "text": [
            "Факторная дисперсия = 126.95\n",
            "Остаточная дисперсия = 23.08\n"
          ]
        }
      ]
    },
    {
      "cell_type": "code",
      "source": [
        "T = sigma2_F / sigma2_res"
      ],
      "metadata": {
        "id": "L7Teqe5lZxBn"
      },
      "execution_count": 14,
      "outputs": []
    },
    {
      "cell_type": "code",
      "source": [
        "print(f\"Значение статистики = {T:.2f}\")"
      ],
      "metadata": {
        "colab": {
          "base_uri": "https://localhost:8080/"
        },
        "id": "i_t2EEwWZ4E0",
        "outputId": "81de148b-1220-4926-c57b-47b784ea08d4"
      },
      "execution_count": 15,
      "outputs": [
        {
          "output_type": "stream",
          "name": "stdout",
          "text": [
            "Значение статистики = 5.50\n"
          ]
        }
      ]
    },
    {
      "cell_type": "code",
      "source": [
        "f = stats.f_oneway(fp, hp, wl)\n",
        "f"
      ],
      "metadata": {
        "colab": {
          "base_uri": "https://localhost:8080/"
        },
        "id": "I5Q_VBDZaAzR",
        "outputId": "6feb77ba-be49-498e-97f2-4a5431ab6fb2"
      },
      "execution_count": 16,
      "outputs": [
        {
          "output_type": "execute_result",
          "data": {
            "text/plain": [
              "F_onewayResult(statistic=5.500053450812596, pvalue=0.010482206918698694)"
            ]
          },
          "metadata": {},
          "execution_count": 16
        }
      ]
    },
    {
      "cell_type": "code",
      "source": [
        "alpha = 0.05\n",
        "\n",
        "F_crit = stats.f.ppf(1 - alpha, k1, k2)"
      ],
      "metadata": {
        "id": "d5z8kktRaSGz"
      },
      "execution_count": 17,
      "outputs": []
    },
    {
      "cell_type": "code",
      "source": [
        "print(f\"Критическое значение = {F_crit:.2f}\")"
      ],
      "metadata": {
        "colab": {
          "base_uri": "https://localhost:8080/"
        },
        "id": "4-3lrf0UaT7p",
        "outputId": "80713eaf-5b34-484a-dd0b-9ba1ed762950"
      },
      "execution_count": 18,
      "outputs": [
        {
          "output_type": "stream",
          "name": "stdout",
          "text": [
            "Критическое значение = 3.39\n"
          ]
        }
      ]
    },
    {
      "cell_type": "markdown",
      "source": [
        "Так как **T > F**_crit делаем вывод, что отличие среднего роста спортсменов является статистически значимым"
      ],
      "metadata": {
        "id": "Fm7i9zPEagj4"
      }
    }
  ]
}