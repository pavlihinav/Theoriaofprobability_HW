{
  "nbformat": 4,
  "nbformat_minor": 0,
  "metadata": {
    "colab": {
      "provenance": [],
      "authorship_tag": "ABX9TyMhhQukOAi42Y7oUxJPf/Zu",
      "include_colab_link": true
    },
    "kernelspec": {
      "name": "python3",
      "display_name": "Python 3"
    },
    "language_info": {
      "name": "python"
    }
  },
  "cells": [
    {
      "cell_type": "markdown",
      "metadata": {
        "id": "view-in-github",
        "colab_type": "text"
      },
      "source": [
        "<a href=\"https://colab.research.google.com/github/pavlihinav/Theoriaofprobability_HW/blob/main/%D0%94%D0%974%D0%9D%D0%B5%D0%BF%D1%80%D0%B5%D1%80%D1%8B%D0%B2%D0%BD%D0%B0%D1%8F_%D1%81%D0%BB%D1%83%D1%87%D0%B0%D0%B9%D0%BD%D0%B0%D1%8F_%D0%B2%D0%B5%D0%BB%D0%B8%D1%87%D0%B8%D0%BD%D0%B0.ipynb\" target=\"_parent\"><img src=\"https://colab.research.google.com/assets/colab-badge.svg\" alt=\"Open In Colab\"/></a>"
      ]
    },
    {
      "cell_type": "markdown",
      "source": [
        "**Задача 1.**\n",
        "\n",
        "\n",
        " Случайная непрерывная величина A имеет равномерное распределение на\n",
        "промежутке (200, 800].\n",
        "Найдите ее среднее значение и дисперсию."
      ],
      "metadata": {
        "id": "3R1mCVW_tfqZ"
      }
    },
    {
      "cell_type": "code",
      "execution_count": 1,
      "metadata": {
        "id": "sMEr6GQ4tZWW"
      },
      "outputs": [],
      "source": [
        "import math\n",
        "import scipy.stats as st"
      ]
    },
    {
      "cell_type": "code",
      "source": [
        "result = (200 + 800) / 2"
      ],
      "metadata": {
        "id": "mygjD5gqtymP"
      },
      "execution_count": 2,
      "outputs": []
    },
    {
      "cell_type": "code",
      "source": [
        "print(f\"Среднее значение: {result}\")"
      ],
      "metadata": {
        "colab": {
          "base_uri": "https://localhost:8080/"
        },
        "id": "uKegbj9wt3Lb",
        "outputId": "dd971b50-5641-4f1f-9beb-4f0e41b48f62"
      },
      "execution_count": 3,
      "outputs": [
        {
          "output_type": "stream",
          "name": "stdout",
          "text": [
            "Среднее значение: 500.0\n"
          ]
        }
      ]
    },
    {
      "cell_type": "code",
      "source": [
        "result = (800 - 200)**2 / 12"
      ],
      "metadata": {
        "id": "oVPgyvqot7Xo"
      },
      "execution_count": 4,
      "outputs": []
    },
    {
      "cell_type": "code",
      "source": [
        "print(f\"Дисперсия: {result}\")"
      ],
      "metadata": {
        "colab": {
          "base_uri": "https://localhost:8080/"
        },
        "id": "pJylkt-zuI1q",
        "outputId": "94656919-49a4-4eb1-d6e2-a01bec91a5b4"
      },
      "execution_count": 5,
      "outputs": [
        {
          "output_type": "stream",
          "name": "stdout",
          "text": [
            "Дисперсия: 30000.0\n"
          ]
        }
      ]
    },
    {
      "cell_type": "markdown",
      "source": [
        "**Задача 2.**\n",
        "\n",
        "\n",
        " О случайной непрерывной равномерно распределенной величине B известно, что ее\n",
        "дисперсия равна 0.2.\n",
        "\n",
        "Можно ли найти правую границу величины B и ее среднее значение зная, что левая\n",
        "граница равна 0.5?\n",
        "\n",
        "Если да, найдите ее."
      ],
      "metadata": {
        "id": "n_Y0XpMXuZ0l"
      }
    },
    {
      "cell_type": "code",
      "source": [
        "d = 0.2\n",
        "a = 0.5\n",
        "\n",
        "result1 = a + math.sqrt(d * 12)"
      ],
      "metadata": {
        "id": "PIzn20zMug2V"
      },
      "execution_count": 6,
      "outputs": []
    },
    {
      "cell_type": "code",
      "source": [
        "print(f\"Дисперсия: {result1}\")"
      ],
      "metadata": {
        "colab": {
          "base_uri": "https://localhost:8080/"
        },
        "id": "I0Dixb5_umUG",
        "outputId": "b3a5c845-bc52-449e-9e62-7f990b3b2948"
      },
      "execution_count": 7,
      "outputs": [
        {
          "output_type": "stream",
          "name": "stdout",
          "text": [
            "Дисперсия: 2.049193338482967\n"
          ]
        }
      ]
    },
    {
      "cell_type": "code",
      "source": [
        "result2 = (a + result1) / 2"
      ],
      "metadata": {
        "id": "t75HSo2qusxR"
      },
      "execution_count": 8,
      "outputs": []
    },
    {
      "cell_type": "code",
      "source": [
        "print(f\"Дисперсия: {result2}\")"
      ],
      "metadata": {
        "colab": {
          "base_uri": "https://localhost:8080/"
        },
        "id": "70b1cY7Puu1D",
        "outputId": "0d6cfd3f-9d4c-4d4b-ee48-39f8831d7425"
      },
      "execution_count": 9,
      "outputs": [
        {
          "output_type": "stream",
          "name": "stdout",
          "text": [
            "Дисперсия: 1.2745966692414834\n"
          ]
        }
      ]
    },
    {
      "cell_type": "markdown",
      "source": [
        "**Задача 3.**\n",
        "\n",
        " Непрерывная случайная величина X распределена нормально и задана плотностью\n",
        "распределения\n",
        "f(x) = (1 / (4 * sqrt(2pi))) * exp((-(x+2)**2) / 32)\n",
        "Найдите:\n",
        "а). M(X)\n",
        "б). D(X)\n",
        "в). std(X) (среднее квадратичное отклонение)"
      ],
      "metadata": {
        "id": "zJhdyiqpvDry"
      }
    },
    {
      "cell_type": "code",
      "source": [
        "# а). M(X) = a, если плотность распределения f(x) = (1 / (4 * sqrt(2*pi))) * (exp(-((x+2)**2) / 32)), тогда\n",
        "M_X = -2\n",
        "# б). D(X) = sigma**2\n",
        "D_X = 16\n",
        "# в). std(X) (среднее квадратичное отклонение) = sigma\n",
        "std_X = 4"
      ],
      "metadata": {
        "id": "iql_RMHlvKAi"
      },
      "execution_count": 10,
      "outputs": []
    },
    {
      "cell_type": "markdown",
      "source": [
        "**Задача 4**\n",
        "\n",
        "Рост взрослого населения города X имеет нормальное распределение.\n",
        "Причем, средний рост равен 174 см, а среднее квадратичное отклонение равно 8 см.\n",
        "Какова вероятность того, что случайным образом выбранный взрослый человек имеет рост:\n",
        "\n",
        "а) больше 182 см\n",
        "\n",
        "б) больше 190 см\n",
        "\n",
        "в) от 166 см до 190 см\n",
        "\n",
        "г) от 166 см до 182 см\n",
        "\n",
        "д) от 158 см до 190 см\n",
        "\n",
        "е) не выше 150 см или не ниже 190 см\n",
        "\n",
        "ж) не выше 150 см или не ниже 198 см\n",
        "\n",
        "з) ниже 166 см."
      ],
      "metadata": {
        "id": "0_og0p90vn_X"
      }
    },
    {
      "cell_type": "code",
      "source": [
        "hight = st.norm(loc=174, scale=8)\n",
        "result1 = 1 - hight.cdf(182)\n",
        "result2 = 1 - hight.cdf(190)\n",
        "result3 = hight.cdf(190)-hight.cdf(166)\n",
        "result4 = hight.cdf(182)-hight.cdf(166)\n",
        "result5 = hight.cdf(190)-hight.cdf(158)\n",
        "result6 = hight.cdf(150) + (1 - hight.cdf(190))\n",
        "result7 = hight.cdf(150) + (1 - hight.cdf(198))\n",
        "result8 = hight.cdf(166)"
      ],
      "metadata": {
        "id": "uXSVXKKzv0xY"
      },
      "execution_count": 11,
      "outputs": []
    },
    {
      "cell_type": "code",
      "source": [
        "print(f\"а) больше 182 см: {result1}\")\n",
        "print(f\"б) больше 190 см: {result2}\")\n",
        "print(f\"в) от 166 см до 190 см: {result3}\")\n",
        "print(f\"г) от 166 см до 182 см: {result4}\")\n",
        "print(f\"д) от 158 см до 190 см: {result5}\")\n",
        "print(f\"е) не выше 150 см или не ниже 190 см: {result6}\")\n",
        "print(f\"ж) не выше 150 см или не ниже 198 см: {result7}\")\n",
        "print(f\"з) ниже 166 см: {result8}\")"
      ],
      "metadata": {
        "colab": {
          "base_uri": "https://localhost:8080/"
        },
        "id": "9kyvLK9Ov77l",
        "outputId": "b0ea6824-d8d0-4991-98ab-efc592414015"
      },
      "execution_count": 12,
      "outputs": [
        {
          "output_type": "stream",
          "name": "stdout",
          "text": [
            "а) больше 182 см: 0.15865525393145707\n",
            "б) больше 190 см: 0.02275013194817921\n",
            "в) от 166 см до 190 см: 0.8185946141203637\n",
            "г) от 166 см до 182 см: 0.6826894921370859\n",
            "д) от 158 см до 190 см: 0.9544997361036416\n",
            "е) не выше 150 см или не ниже 190 см: 0.0241000299798093\n",
            "ж) не выше 150 см или не ниже 198 см: 0.0026997960632601965\n",
            "з) ниже 166 см: 0.15865525393145707\n"
          ]
        }
      ]
    },
    {
      "cell_type": "markdown",
      "source": [
        "**Задача 5**\n",
        "\n",
        "На сколько сигм (средних квадратичных отклонений) отклоняется рост человека, равный 190 см,\n",
        "от математического ожидания роста в популяции, в которой M(X) = 178 см и D(X) = 25 кв.см?"
      ],
      "metadata": {
        "id": "txIoSfxMwH8r"
      }
    },
    {
      "cell_type": "code",
      "source": [
        "result = (190 - 178) / math.sqrt(25)"
      ],
      "metadata": {
        "id": "8k8_0KyZwMpA"
      },
      "execution_count": 13,
      "outputs": []
    },
    {
      "cell_type": "code",
      "source": [
        "print(f\"Ответ: {result}\")"
      ],
      "metadata": {
        "colab": {
          "base_uri": "https://localhost:8080/"
        },
        "id": "k0az_OokwTjf",
        "outputId": "3cae2c54-0b57-4f9e-cb76-5bc7364f6a7d"
      },
      "execution_count": 14,
      "outputs": [
        {
          "output_type": "stream",
          "name": "stdout",
          "text": [
            "Ответ: 2.4\n"
          ]
        }
      ]
    }
  ]
}