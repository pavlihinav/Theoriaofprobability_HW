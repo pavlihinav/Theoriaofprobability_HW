{
  "nbformat": 4,
  "nbformat_minor": 0,
  "metadata": {
    "colab": {
      "provenance": [],
      "authorship_tag": "ABX9TyNKvoeUPYu6XghD7mY3xuCy",
      "include_colab_link": true
    },
    "kernelspec": {
      "name": "python3",
      "display_name": "Python 3"
    },
    "language_info": {
      "name": "python"
    }
  },
  "cells": [
    {
      "cell_type": "markdown",
      "metadata": {
        "id": "view-in-github",
        "colab_type": "text"
      },
      "source": [
        "<a href=\"https://colab.research.google.com/github/pavlihinav/Theoriaofprobability_HW/blob/main/%D0%94%D0%975%D0%A2%D0%B5%D1%81%D1%82%D0%B8%D1%80%D0%BE%D0%B2%D0%B0%D0%BD%D0%B8%D0%B5_%D0%B3%D0%B8%D0%BF%D0%BE%D1%82%D0%B5%D0%B7.ipynb\" target=\"_parent\"><img src=\"https://colab.research.google.com/assets/colab-badge.svg\" alt=\"Open In Colab\"/></a>"
      ]
    },
    {
      "cell_type": "markdown",
      "source": [
        "**Задача 1.**\n",
        " Когда используется критерий Стьюдента, а когда Z –критерий?"
      ],
      "metadata": {
        "id": "5nBT2qTTxe5h"
      }
    },
    {
      "cell_type": "markdown",
      "source": [
        "Стьюдент-критерий — это проверка статистической гипотезы, используемая для сравнения средних значений двух групп, когда размер выборки невелик или дисперсия совокупности неизвестна, тогда как z-критерий используется, когда размер выборки велик и известна дисперсия совокупности."
      ],
      "metadata": {
        "id": "TWSXOX5NyBoO"
      }
    },
    {
      "cell_type": "code",
      "execution_count": null,
      "metadata": {
        "id": "AlbTyUJbxEkj"
      },
      "outputs": [],
      "source": []
    },
    {
      "cell_type": "markdown",
      "source": [
        "**Задача 2.**\n",
        "\n",
        " Проведите тест гипотезы. Утверждается, что шарики для подшипников, изготовленные\n",
        "автоматическим станком, имеют средний диаметр 17 мм.\n",
        "Используя односторонний критерий с α=0,05, проверить эту гипотезу, если в выборке из\n",
        "n=100 шариков средний диаметр\n",
        "оказался равным 17.5 мм, а дисперсия генеральной совокупности известна и равна 4 кв. мм."
      ],
      "metadata": {
        "id": "dbpWAUxty0HX"
      }
    },
    {
      "cell_type": "code",
      "source": [
        "import numpy as np\n",
        "from scipy import stats"
      ],
      "metadata": {
        "id": "CFCNYs_A1zDG"
      },
      "execution_count": 2,
      "outputs": []
    },
    {
      "cell_type": "code",
      "source": [
        "z_h = (17.5 - 17)/(2 / np.sqrt(100))\n",
        "z_h"
      ],
      "metadata": {
        "colab": {
          "base_uri": "https://localhost:8080/"
        },
        "id": "bxtnWknQ1jEF",
        "outputId": "ec61a877-b6b6-41b0-fd36-6b2364fcfd12"
      },
      "execution_count": 3,
      "outputs": [
        {
          "output_type": "execute_result",
          "data": {
            "text/plain": [
              "2.5"
            ]
          },
          "metadata": {},
          "execution_count": 3
        }
      ]
    },
    {
      "cell_type": "code",
      "source": [
        "alpha = 0.05\n",
        "stats.norm.ppf(1 - alpha)"
      ],
      "metadata": {
        "colab": {
          "base_uri": "https://localhost:8080/"
        },
        "id": "zF9FWzp018VZ",
        "outputId": "994d399d-6f99-41f4-e3c7-a7e21ef11d98"
      },
      "execution_count": 4,
      "outputs": [
        {
          "output_type": "execute_result",
          "data": {
            "text/plain": [
              "1.6448536269514722"
            ]
          },
          "metadata": {},
          "execution_count": 4
        }
      ]
    },
    {
      "cell_type": "markdown",
      "source": [
        "так как наблюдаемое значение больше табличного\n",
        "что гипотеза $H_0$ не верная\n",
        "принимается гипотеза $H_1$"
      ],
      "metadata": {
        "id": "fyCES0q26Bm8"
      }
    },
    {
      "cell_type": "markdown",
      "source": [
        "**Задача 3**\n",
        "\n",
        "\n",
        "Проведите тест гипотезы.\n",
        "Продавец утверждает, что средний вес пачки печенья составляет 200 г.\n",
        "Из партии извлечена выборка из 10 пачек. Вес каждой пачки составляет:\n",
        "\n",
        "202, 203, 199, 197, 195, 201, 200, 204, 194, 190.\n",
        "\n",
        "Известно, что их веса распределены нормально.\n",
        "Верно ли утверждение продавца, если учитывать, что доверительная вероятность равна 99%? (Провести двусторонний тест.)"
      ],
      "metadata": {
        "id": "d_qAs7Hv7y_2"
      }
    },
    {
      "cell_type": "markdown",
      "source": [
        "Соствим гипотезы\n",
        "\n",
        "$H_0$: M = 200\n",
        "\n",
        "$H_1$: M $\\neq$ 200\n"
      ],
      "metadata": {
        "id": "p37VaMt48M1o"
      }
    },
    {
      "cell_type": "code",
      "source": [
        "weights = np.array([202, 203, 199, 197, 195, 201, 200, 204, 194, 190])\n",
        "n = 10\n",
        "\n",
        "mean = weights.mean()\n",
        "std = weights.std(ddof=1)\n",
        "\n",
        "mean, std"
      ],
      "metadata": {
        "colab": {
          "base_uri": "https://localhost:8080/"
        },
        "id": "R6lsCrbQ7SI-",
        "outputId": "82585c95-10eb-421a-8234-c91290c1e9e7"
      },
      "execution_count": 7,
      "outputs": [
        {
          "output_type": "execute_result",
          "data": {
            "text/plain": [
              "(198.5, 4.453463071962462)"
            ]
          },
          "metadata": {},
          "execution_count": 7
        }
      ]
    },
    {
      "cell_type": "markdown",
      "source": [
        "Поскольку мы проверяем гипотезу относительно математического ожидания нормально распределённой случайной величины с неизвестной дисперсией, будем использовать статистику:"
      ],
      "metadata": {
        "id": "JiHYPzce9Lk_"
      }
    },
    {
      "cell_type": "code",
      "source": [
        "# t- наблюдаемое\n",
        "t = (mean-200)/(std/np.sqrt(n))\n",
        "t"
      ],
      "metadata": {
        "colab": {
          "base_uri": "https://localhost:8080/"
        },
        "id": "PgPx3yBzAq2P",
        "outputId": "6c354bca-1f99-4d58-8d66-0a2e9b30c53a"
      },
      "execution_count": 8,
      "outputs": [
        {
          "output_type": "execute_result",
          "data": {
            "text/plain": [
              "-1.0651074037450896"
            ]
          },
          "metadata": {},
          "execution_count": 8
        }
      ]
    },
    {
      "cell_type": "markdown",
      "source": [
        "Доверительная вероятность = 0.99\n",
        "\n",
        "Число степеней свободы = n-1 =9\n",
        "\n",
        "по таблице Стьюдента находим критическое\n",
        "\n",
        "$t_1$ =3.25\n",
        "\n",
        "$t_2$ = -3.25\n",
        "\n",
        "$\\Omega_\\alpha$ =(-$\\infty, -3.25)$∪(3.25, $\\infty).$\n",
        "\n",
        "Ответ:\n",
        "Значение $t$  не попадает в критическую область, таким образом, гипотезу $H_0$\n",
        " не отвергаем\n"
      ],
      "metadata": {
        "id": "Qf6fzHMhAyUl"
      }
    },
    {
      "cell_type": "markdown",
      "source": [
        "**Задача 4**\n",
        "\n",
        "Рост матерей 172, 177, 158, 170, 178,175, 164, 160, 169 Рост взрослых дочерей: 173, 175, 162, 174, 175, 168, 155, 170, 160\n",
        "\n",
        "Задачу решать с помощью функции. Есть ли статистически значимые различия в росте дочерей и матерей?"
      ],
      "metadata": {
        "id": "J_UJ0VkqE6Gf"
      }
    },
    {
      "cell_type": "code",
      "source": [
        "mothers = [172, 177, 158, 170, 178, 175, 164, 160, 169, 165]\n",
        "daughters = [173, 175, 162, 174, 175, 168, 155, 170, 160, 163]\n",
        "\n",
        "stats.ttest_rel(mothers, daughters)"
      ],
      "metadata": {
        "colab": {
          "base_uri": "https://localhost:8080/"
        },
        "id": "rbh9Hz9zE86u",
        "outputId": "4958dee6-178c-43ea-d043-99d9f3630811"
      },
      "execution_count": 9,
      "outputs": [
        {
          "output_type": "execute_result",
          "data": {
            "text/plain": [
              "TtestResult(statistic=0.6648478531431979, pvalue=0.5228168632983574, df=9)"
            ]
          },
          "metadata": {},
          "execution_count": 9
        }
      ]
    },
    {
      "cell_type": "markdown",
      "source": [
        "Ответ:\n",
        "\n",
        "Так как $p$- $value$ > $\\alpha$ (0.05)\n",
        "\n",
        " $H_0$ не отвергаем\n",
        "\n",
        "Статистически значимых различий нет."
      ],
      "metadata": {
        "id": "5yskvz5fFBH_"
      }
    }
  ]
}