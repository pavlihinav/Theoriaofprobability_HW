{
  "nbformat": 4,
  "nbformat_minor": 0,
  "metadata": {
    "colab": {
      "provenance": [],
      "authorship_tag": "ABX9TyNe+Zr9aZuuRqooYLZkxaY5",
      "include_colab_link": true
    },
    "kernelspec": {
      "name": "python3",
      "display_name": "Python 3"
    },
    "language_info": {
      "name": "python"
    }
  },
  "cells": [
    {
      "cell_type": "markdown",
      "metadata": {
        "id": "view-in-github",
        "colab_type": "text"
      },
      "source": [
        "<a href=\"https://colab.research.google.com/github/pavlihinav/Theoriaofprobability_HW/blob/main/%D0%94%D0%976%D0%A1%D1%80%D0%B0%D0%B2%D0%BD%D0%B5%D0%BD%D0%B8%D0%B5_%D0%B4%D0%BE%D0%BB%D0%B5%D0%B9_%D0%9F%D0%BE%D1%81%D1%82%D1%80%D0%BE%D0%B5%D0%BD%D0%B8%D0%B5_%D0%B4%D0%BE%D0%B2%D0%B5%D1%80%D0%B8%D1%82%D0%B5%D0%BB%D1%8C%D0%BD%D0%BE%D0%B3%D0%BE_%D0%B8%D0%BD%D1%82%D0%B5%D1%80%D0%B2%D0%B0%D0%BB%D0%B0.ipynb\" target=\"_parent\"><img src=\"https://colab.research.google.com/assets/colab-badge.svg\" alt=\"Open In Colab\"/></a>"
      ]
    },
    {
      "cell_type": "markdown",
      "source": [
        "**Задача 1.**\n",
        "\n",
        " Известно, что генеральная совокупность распределена нормально\n",
        "со средним квадратическим отклонением, равным 16.\n",
        "\n",
        "Найти доверительный интервал для оценки математического ожидания с надежностью\n",
        "0.95,\n",
        "если выборочная средняя M = 80, а объем выборки n = 256."
      ],
      "metadata": {
        "id": "THq_fv5xZPfP"
      }
    },
    {
      "cell_type": "code",
      "execution_count": 1,
      "metadata": {
        "id": "mmG1ZnlqYG2d"
      },
      "outputs": [],
      "source": [
        "import numpy as np\n",
        "from statsmodels.stats.weightstats import _tconfint_generic as t_stat\n",
        "from scipy import stats"
      ]
    },
    {
      "cell_type": "code",
      "source": [
        "m = 80\n",
        "sigma = 16\n",
        "n = 256\n",
        "p = 0.95\n",
        "alpha = 0.05\n",
        "z = stats.norm.ppf(alpha/2)"
      ],
      "metadata": {
        "id": "s7feVF7XZmtD"
      },
      "execution_count": 2,
      "outputs": []
    },
    {
      "cell_type": "code",
      "source": [
        "(m - z * sigma / np.sqrt(n), m + z * sigma / np.sqrt(n))"
      ],
      "metadata": {
        "colab": {
          "base_uri": "https://localhost:8080/"
        },
        "id": "XXcATMJ8Zv3q",
        "outputId": "3f44374c-8245-4e11-b8a2-c3553e4e4fa4"
      },
      "execution_count": 3,
      "outputs": [
        {
          "output_type": "execute_result",
          "data": {
            "text/plain": [
              "(81.95996398454005, 78.04003601545995)"
            ]
          },
          "metadata": {},
          "execution_count": 3
        }
      ]
    },
    {
      "cell_type": "markdown",
      "source": [
        "Доверительный интервал: [81.96; 78.04]."
      ],
      "metadata": {
        "id": "gwMvc5w7Z8VI"
      }
    },
    {
      "cell_type": "markdown",
      "source": [
        "**Задача 2.**\n",
        "\n",
        "\n",
        " В результате 10 независимых измерений некоторой величины X, выполненных с\n",
        "одинаковой точностью,получены опытные данные:\n",
        "\n",
        "6.9, 6.1, 6.2, 6.8, 7.5, 6.3, 6.4, 6.9, 6.7, 6.1\n",
        "\n",
        "Предполагая, что результаты измерений подчинены нормальному закону распределения\n",
        "вероятностей,оценить истинное значение величины X при помощи доверительного интервала,покрывающего это значение с доверительной вероятностью 0,95.\n"
      ],
      "metadata": {
        "id": "e_dqfk2vaM4W"
      }
    },
    {
      "cell_type": "code",
      "source": [
        "x = np.array([6.9, 6.1, 6.2, 6.8, 7.5, 6.3, 6.4, 6.9, 6.7, 6.1])\n",
        "x_mean = x.mean()\n",
        "x_std = x.std(ddof = 1)\n",
        "x_mean_std = x_std / (np.sqrt(len(x)))\n",
        "\n",
        "result = t_stat(x_mean, x_mean_std, len(x) - 1, 1 - 0.95, 'two-sided')"
      ],
      "metadata": {
        "id": "QMry0uH4aa_V"
      },
      "execution_count": 21,
      "outputs": []
    },
    {
      "cell_type": "code",
      "source": [
        "print(f\"Доверительный интервал величины Х: {result}\")"
      ],
      "metadata": {
        "colab": {
          "base_uri": "https://localhost:8080/"
        },
        "id": "7GsOtb74ajgq",
        "outputId": "929fc971-0e79-4376-bfad-df5d62d1aa66"
      },
      "execution_count": 24,
      "outputs": [
        {
          "output_type": "stream",
          "name": "stdout",
          "text": [
            "Доверительный интервал величины Х: (6.267515851415713, 6.912484148584288)\n"
          ]
        }
      ]
    },
    {
      "cell_type": "markdown",
      "source": [
        "**Задача 3.**\n",
        "\n",
        " Рост дочерей 175, 167, 154, 174, 178, 148, 160, 167, 169, 170\n",
        "\n",
        "Рост матерей 178, 165, 165, 173, 168, 155, 160, 164, 178, 175\n",
        "\n",
        "\n",
        "Используя эти данные построить 95% доверительный интервал для разности среднего\n",
        "роста родителей и детей."
      ],
      "metadata": {
        "id": "JYOmvEBNeIkF"
      }
    },
    {
      "cell_type": "code",
      "source": [
        "mothers = np.array([178, 165, 165, 173, 168, 155, 160, 164, 178, 175])\n",
        "daughters = np.array([175, 167, 154, 174, 178, 148, 160, 167, 169, 170])\n",
        "\n",
        "difference_of_means = np.mean(mothers) - np.mean(daughters)\n",
        "standard_error = np.sqrt(np.var(mothers, ddof=1)/len(mothers) + np.var(daughters, ddof=1)/len(daughters))\n",
        "t_critical = stats.t.ppf(0.975, len(mothers) + len(daughters) - 2)\n",
        "l_border = difference_of_means - t_critical * standard_error\n",
        "r_border = difference_of_means + t_critical * standard_error\n",
        "\n",
        "print(f'>>> 95% доверительный интервал для разности среднего роста родителей и детей: [{l_border:.2f}, {r_border:.2f}]')"
      ],
      "metadata": {
        "colab": {
          "base_uri": "https://localhost:8080/"
        },
        "id": "h5wfFV2peU0D",
        "outputId": "fcba8543-2d5c-49b7-a3a9-4aee1c580d03"
      },
      "execution_count": 26,
      "outputs": [
        {
          "output_type": "stream",
          "name": "stdout",
          "text": [
            ">>> 95% доверительный интервал для разности среднего роста родителей и детей: [-6.27, 10.07]\n"
          ]
        }
      ]
    }
  ]
}