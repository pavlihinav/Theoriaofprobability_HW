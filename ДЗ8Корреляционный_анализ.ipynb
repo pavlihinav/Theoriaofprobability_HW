{
  "nbformat": 4,
  "nbformat_minor": 0,
  "metadata": {
    "colab": {
      "provenance": [],
      "authorship_tag": "ABX9TyMAcJbpOgeGDJhwO5k7E2Dl",
      "include_colab_link": true
    },
    "kernelspec": {
      "name": "python3",
      "display_name": "Python 3"
    },
    "language_info": {
      "name": "python"
    }
  },
  "cells": [
    {
      "cell_type": "markdown",
      "metadata": {
        "id": "view-in-github",
        "colab_type": "text"
      },
      "source": [
        "<a href=\"https://colab.research.google.com/github/pavlihinav/Theoriaofprobability_HW/blob/main/%D0%94%D0%978%D0%9A%D0%BE%D1%80%D1%80%D0%B5%D0%BB%D1%8F%D1%86%D0%B8%D0%BE%D0%BD%D0%BD%D1%8B%D0%B9_%D0%B0%D0%BD%D0%B0%D0%BB%D0%B8%D0%B7.ipynb\" target=\"_parent\"><img src=\"https://colab.research.google.com/assets/colab-badge.svg\" alt=\"Open In Colab\"/></a>"
      ]
    },
    {
      "cell_type": "markdown",
      "source": [
        "**Задача 1 **\n",
        "\n",
        "Даны значения величины заработной платы заемщиков банка (zp) и значения их\n",
        "поведенческого кредитного скоринга (ks):\n",
        "\n",
        "zp = [35, 45, 190, 200, 40, 70, 54, 150, 120, 110],\n",
        "\n",
        "ks = [401, 574, 874, 919, 459, 739, 653, 902, 746, 832].\n",
        "\n",
        "Найдите ковариацию этих двух величин с помощью элементарных действий, а затем с\n",
        "помощью функции cov из numpy\n",
        "\n",
        "Полученные значения должны быть равны.\n",
        "\n",
        "Найдите коэффициент корреляции Пирсона с помощью ковариации и\n",
        "среднеквадратичных отклонений двух признаков,\n",
        "а затем с использованием функций из библиотек numpy и pandas."
      ],
      "metadata": {
        "id": "BmQH1BKqFjtV"
      }
    },
    {
      "cell_type": "code",
      "execution_count": 1,
      "metadata": {
        "id": "ruU3w_rSFavu"
      },
      "outputs": [],
      "source": [
        "import numpy as np\n",
        "import pandas as pd\n",
        "from scipy import stats\n",
        "import matplotlib.pyplot as plt"
      ]
    },
    {
      "cell_type": "code",
      "source": [
        "zp = np.array([35, 45, 190, 200, 40, 70, 54, 150, 120, 110])\n",
        "ks = np.array([401, 574, 874, 919, 459, 739, 653, 902, 746, 832])"
      ],
      "metadata": {
        "id": "e0T1coN4Kbbt"
      },
      "execution_count": 2,
      "outputs": []
    },
    {
      "cell_type": "code",
      "source": [
        "plt.scatter(zp,ks)\n",
        "plt.xlabel('Величина заработной платы \"ZP\"')\n",
        "plt.ylabel('Поведенческий кредитный скоринг \"KS\"', rotation=90)\n",
        "plt.show()"
      ],
      "metadata": {
        "colab": {
          "base_uri": "https://localhost:8080/",
          "height": 449
        },
        "id": "ees3FQu2Kjxl",
        "outputId": "2d2e6cd6-7b50-42cf-822d-6c1405025081"
      },
      "execution_count": 3,
      "outputs": [
        {
          "output_type": "display_data",
          "data": {
            "text/plain": [
              "<Figure size 640x480 with 1 Axes>"
            ],
            "image/png": "[encoded data removed]"
          },
          "metadata": {}
        }
      ]
    },
    {
      "cell_type": "markdown",
      "source": [
        "По  графику видно,  зависимость линейная,  между этими данными существует положительная корреляция."
      ],
      "metadata": {
        "id": "Omm_wdxWK8ND"
      }
    },
    {
      "cell_type": "markdown",
      "source": [
        "Вычислим ковариацию двух величин с помощью элементарных действий:\n",
        "\n",
        "$Сov(xy) = M(XY) - M(X)*M(Y)$"
      ],
      "metadata": {
        "id": "WdjGemhtLRat"
      }
    },
    {
      "cell_type": "code",
      "source": [
        "cov_zp_ks = np.mean(zp*ks) - np.mean(zp)*np.mean(ks)\n",
        "cov_zp_ks"
      ],
      "metadata": {
        "colab": {
          "base_uri": "https://localhost:8080/"
        },
        "id": "xnzI5aWYLLTZ",
        "outputId": "aa7552de-b146-4d5c-9430-813cdf18681b"
      },
      "execution_count": 4,
      "outputs": [
        {
          "output_type": "execute_result",
          "data": {
            "text/plain": [
              "9157.839999999997"
            ]
          },
          "metadata": {},
          "execution_count": 4
        }
      ]
    },
    {
      "cell_type": "markdown",
      "source": [
        "Вычислим ковариацию двух величин через функцию $cov$"
      ],
      "metadata": {
        "id": "lt2jaN2eL0Zn"
      }
    },
    {
      "cell_type": "code",
      "source": [
        "cov_zp_ks = np.cov(zp, ks, ddof=0)[0, 1]\n",
        "cov_zp_ks"
      ],
      "metadata": {
        "colab": {
          "base_uri": "https://localhost:8080/"
        },
        "id": "PdYfiU_xMBTE",
        "outputId": "ef61b0bd-933c-4f19-c476-18c0ee5dc1b3"
      },
      "execution_count": 5,
      "outputs": [
        {
          "output_type": "execute_result",
          "data": {
            "text/plain": [
              "9157.84"
            ]
          },
          "metadata": {},
          "execution_count": 5
        }
      ]
    },
    {
      "cell_type": "markdown",
      "source": [
        "Вычислим коэффициент корреляции Пирсона с помощью ковариации и среднеквадратичных отклонений двух признаков:\n",
        "\n",
        "$corr(zp, ks) = \\frac{Cov(zp, ks)}{\\sqrt{Var(zp)}\\sqrt{Var(ks)}}$"
      ],
      "metadata": {
        "id": "Y7WGC-omMN2z"
      }
    },
    {
      "cell_type": "code",
      "source": [
        "corr = cov_zp_ks / (np.std(zp) * np.std(ks))\n",
        "corr"
      ],
      "metadata": {
        "colab": {
          "base_uri": "https://localhost:8080/"
        },
        "id": "ozfJ4B0rMrIS",
        "outputId": "9f8b2493-576d-4914-d1bc-34fdefac0cc7"
      },
      "execution_count": 6,
      "outputs": [
        {
          "output_type": "execute_result",
          "data": {
            "text/plain": [
              "0.8874900920739162"
            ]
          },
          "metadata": {},
          "execution_count": 6
        }
      ]
    },
    {
      "cell_type": "markdown",
      "source": [
        "$r = \\frac{\\operatorname{cov}(zp, ks)}{\\sigma_{zp} \\sigma_{ks}}$"
      ],
      "metadata": {
        "id": "anK85j_jM8qv"
      }
    },
    {
      "cell_type": "code",
      "source": [
        "corr_coef = cov_zp_ks / (np.std(zp, ddof=0) * np.std(ks, ddof=0))\n",
        "corr_coef"
      ],
      "metadata": {
        "colab": {
          "base_uri": "https://localhost:8080/"
        },
        "id": "OLsRfZsNNDKU",
        "outputId": "43aba071-84d1-40c7-89c8-743d4f5ae0f4"
      },
      "execution_count": 7,
      "outputs": [
        {
          "output_type": "execute_result",
          "data": {
            "text/plain": [
              "0.8874900920739162"
            ]
          },
          "metadata": {},
          "execution_count": 7
        }
      ]
    },
    {
      "cell_type": "markdown",
      "source": [
        "$Numpy$"
      ],
      "metadata": {
        "id": "_usqhKaKNL6l"
      }
    },
    {
      "cell_type": "code",
      "source": [
        "corr_numpy = np.corrcoef(zp, ks)[0][1]\n",
        "corr_numpy"
      ],
      "metadata": {
        "colab": {
          "base_uri": "https://localhost:8080/"
        },
        "id": "16iKMChBNOu-",
        "outputId": "9760a546-92c9-498c-d4fc-564b0f13a16b"
      },
      "execution_count": 8,
      "outputs": [
        {
          "output_type": "execute_result",
          "data": {
            "text/plain": [
              "0.8874900920739162"
            ]
          },
          "metadata": {},
          "execution_count": 8
        }
      ]
    },
    {
      "cell_type": "markdown",
      "source": [
        "$Pandas$"
      ],
      "metadata": {
        "id": "gvIAR_IgNZs2"
      }
    },
    {
      "cell_type": "code",
      "source": [
        "corr_pandas = pd.Series(zp).corr(pd.Series(ks), method='pearson')\n",
        "corr_pandas"
      ],
      "metadata": {
        "colab": {
          "base_uri": "https://localhost:8080/"
        },
        "id": "gelTnKCjNTuA",
        "outputId": "88948594-f59b-41b2-8974-ec09b3e311d5"
      },
      "execution_count": 9,
      "outputs": [
        {
          "output_type": "execute_result",
          "data": {
            "text/plain": [
              "0.8874900920739162"
            ]
          },
          "metadata": {},
          "execution_count": 9
        }
      ]
    },
    {
      "cell_type": "markdown",
      "source": [
        "**Задача 2**\n",
        "\n",
        " Измерены значения IQ выборки студентов,\n",
        "обучающихся в местных технических вузах:\n",
        "\n",
        "131, 125, 115, 122, 131, 115, 107, 99, 125, 111.\n",
        "\n",
        "Известно, что в генеральной совокупности IQ распределен нормально.\n",
        "\n",
        "Найдите доверительный интервал для математического ожидания с надежностью 0.95."
      ],
      "metadata": {
        "id": "MwBsphfvNgh5"
      }
    },
    {
      "cell_type": "code",
      "source": [
        "iq = np.array([131, 125, 115, 122, 131, 115, 107, 99, 125, 111])\n",
        "alpha = 0.05"
      ],
      "metadata": {
        "id": "7MlYjzkiNxuV"
      },
      "execution_count": 10,
      "outputs": []
    },
    {
      "cell_type": "markdown",
      "source": [
        "Для расчета доверительного интервала при неизвесной СКО будем использовать $t$\n",
        "-критерий и формулу для среднего арифмитического:"
      ],
      "metadata": {
        "id": "fyL-UVfGOSOg"
      }
    },
    {
      "cell_type": "markdown",
      "source": [
        "$\\overline{X}\\underline{+}t\\frac{\\alpha}{2}*\\frac{\\sigma}{\\sqrt{n}}$"
      ],
      "metadata": {
        "id": "42--kDq6OV8o"
      }
    },
    {
      "cell_type": "code",
      "source": [
        "n = iq.size\n",
        "std = iq.std(ddof=1)\n",
        "mean = iq.mean()\n",
        "print(f'>>> Размер выборки: n = {n}\\n'f'>>> Среднее квадратическое отклонение по выборке(несмещенное): {std:.2f}\\n'f'>>> Среднее выборочное: {mean:.2f}\\n')"
      ],
      "metadata": {
        "colab": {
          "base_uri": "https://localhost:8080/"
        },
        "id": "M63SJJ2fOuO5",
        "outputId": "e09b7345-fa8a-4b12-b224-b13589b10fa7"
      },
      "execution_count": 12,
      "outputs": [
        {
          "output_type": "stream",
          "name": "stdout",
          "text": [
            ">>> Размер выборки: n = 10\n",
            ">>> Среднее квадратическое отклонение по выборке(несмещенное): 10.55\n",
            ">>> Среднее выборочное: 118.10\n",
            "\n"
          ]
        }
      ]
    },
    {
      "cell_type": "markdown",
      "source": [
        "Cчитаем значения $t$\n",
        " и отклонение"
      ],
      "metadata": {
        "id": "3mZKQe5NQhwj"
      }
    },
    {
      "cell_type": "code",
      "source": [
        "t = stats.t.ppf(1 - alpha / 2, n - 1)\n",
        "d = t * std / (n) ** 0.5\n",
        "d,t"
      ],
      "metadata": {
        "colab": {
          "base_uri": "https://localhost:8080/"
        },
        "id": "kCrHYqQGQlN3",
        "outputId": "9c9fe944-2a05-4107-a6dc-590d97189277"
      },
      "execution_count": 13,
      "outputs": [
        {
          "output_type": "execute_result",
          "data": {
            "text/plain": [
              "(7.543916348412745, 2.2621571627409915)"
            ]
          },
          "metadata": {},
          "execution_count": 13
        }
      ]
    },
    {
      "cell_type": "markdown",
      "source": [
        "Считаем доверительный интервал"
      ],
      "metadata": {
        "id": "WmxKTyQpQqKY"
      }
    },
    {
      "cell_type": "code",
      "source": [
        "min = mean - d\n",
        "max = mean + d\n",
        "print(f'>>> Доверительный интервал для математического ожидания с надежностью 0.95 составляет:{min: .2f};{max: .2f}')"
      ],
      "metadata": {
        "colab": {
          "base_uri": "https://localhost:8080/"
        },
        "id": "FCcZ8V8UQuKE",
        "outputId": "fd3894e9-dca6-42fd-8b87-684382f049f9"
      },
      "execution_count": 14,
      "outputs": [
        {
          "output_type": "stream",
          "name": "stdout",
          "text": [
            ">>> Доверительный интервал для математического ожидания с надежностью 0.95 составляет: 110.56; 125.64\n"
          ]
        }
      ]
    },
    {
      "cell_type": "markdown",
      "source": [
        "Задача 3\n",
        "\n",
        "Известно, что рост футболистов в сборной распределен нормально с дисперсией генеральной совокупности, равной 25 кв.см.\n",
        "\n",
        "Объем выборки равен 27, среднее выборочное составляет 174.2.\n",
        "\n",
        "Найдите доверительный интервал для математического ожидания с надежностью 0.95."
      ],
      "metadata": {
        "id": "RWTtWNbqQ7HZ"
      }
    },
    {
      "cell_type": "markdown",
      "source": [
        "Для расчета доверительного интервала при извесной СКО будем использовать\n",
        "-критерий и формулу для среднего арифмитического:\n",
        "\n",
        " $\\overline{X}\\underline{+}z\\frac{\\alpha}{2}*\\frac{\\sigma}{\\sqrt{n}}$\n",
        "\n",
        "\n"
      ],
      "metadata": {
        "id": "X1zEzXHmRXvX"
      }
    },
    {
      "cell_type": "code",
      "source": [
        "var = 25\n",
        "n = 27\n",
        "mean = 174.2\n",
        "std = (var)**0.5\n",
        "alpha = 0.05\n",
        "z=stats.norm.ppf(1-alpha/2,n-1)\n",
        "d=z*std/(n)**0.5\n",
        "min = mean - d\n",
        "max = mean + d\n",
        "print(f'>>> Доверительный интервал для математического ожидания с надежностью 0.95 составляет:{min: .2f};{max: .2f}')"
      ],
      "metadata": {
        "colab": {
          "base_uri": "https://localhost:8080/"
        },
        "id": "rr-sI51MRzKf",
        "outputId": "02790e0b-d5a9-4d78-f247-81d0d18ce015"
      },
      "execution_count": 15,
      "outputs": [
        {
          "output_type": "stream",
          "name": "stdout",
          "text": [
            ">>> Доверительный интервал для математического ожидания с надежностью 0.95 составляет: 147.30; 201.10\n"
          ]
        }
      ]
    }
  ]
}