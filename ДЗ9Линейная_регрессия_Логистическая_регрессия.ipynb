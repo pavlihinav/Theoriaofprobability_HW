{
  "nbformat": 4,
  "nbformat_minor": 0,
  "metadata": {
    "colab": {
      "provenance": [],
      "authorship_tag": "ABX9TyPpioxAQt76uuw1F0EbI1l4",
      "include_colab_link": true
    },
    "kernelspec": {
      "name": "python3",
      "display_name": "Python 3"
    },
    "language_info": {
      "name": "python"
    }
  },
  "cells": [
    {
      "cell_type": "markdown",
      "metadata": {
        "id": "view-in-github",
        "colab_type": "text"
      },
      "source": [
        "<a href=\"https://colab.research.google.com/github/pavlihinav/Theoriaofprobability_HW/blob/main/%D0%94%D0%979%D0%9B%D0%B8%D0%BD%D0%B5%D0%B9%D0%BD%D0%B0%D1%8F_%D1%80%D0%B5%D0%B3%D1%80%D0%B5%D1%81%D1%81%D0%B8%D1%8F_%D0%9B%D0%BE%D0%B3%D0%B8%D1%81%D1%82%D0%B8%D1%87%D0%B5%D1%81%D0%BA%D0%B0%D1%8F_%D1%80%D0%B5%D0%B3%D1%80%D0%B5%D1%81%D1%81%D0%B8%D1%8F.ipynb\" target=\"_parent\"><img src=\"https://colab.research.google.com/assets/colab-badge.svg\" alt=\"Open In Colab\"/></a>"
      ]
    },
    {
      "cell_type": "markdown",
      "source": [
        "**Задача 1**\n",
        "\n",
        " Даны значения величины заработной платы заемщиков банка (zp) и значения их\n",
        "поведенческого кредитного скоринга (ks):\n",
        "\n",
        " zp = [35, 45, 190, 200, 40, 70, 54, 150, 120, 110],\n",
        "\n",
        "ks = [401, 574, 874, 919, 459, 739, 653, 902, 746, 832].\n",
        "\n",
        "Используя математические\n",
        "операции, посчитать коэффициенты линейной регрессии, приняв за X заработную плату\n",
        "(то есть, zp - признак), а за y - значения скорингового балла (то есть, ks - целевая\n",
        "переменная). Произвести расчет как с использованием intercept, так и без."
      ],
      "metadata": {
        "id": "XvSnPpkPTpJM"
      }
    },
    {
      "cell_type": "code",
      "execution_count": 2,
      "metadata": {
        "id": "zHsjfE83Tjb2"
      },
      "outputs": [],
      "source": [
        "import numpy as np\n",
        "import matplotlib.pyplot as plt"
      ]
    },
    {
      "cell_type": "markdown",
      "source": [
        "с intercept"
      ],
      "metadata": {
        "id": "gjKY2Cv4UGDa"
      }
    },
    {
      "cell_type": "code",
      "source": [
        "zp = np.array([35, 45, 190, 200, 40, 70, 54, 150, 120, 110])\n",
        "ks = np.array([401, 574, 874, 919, 459, 739, 653, 902, 746, 832])"
      ],
      "metadata": {
        "id": "pC2keWh9UHBa"
      },
      "execution_count": 3,
      "outputs": []
    },
    {
      "cell_type": "code",
      "source": [
        "n = len(ks)\n",
        "b1 = (np.mean(zp*ks)-np.mean(zp)*np.mean(ks))/(np.mean(zp**2) - np.mean(zp)**2)\n",
        "b1"
      ],
      "metadata": {
        "colab": {
          "base_uri": "https://localhost:8080/"
        },
        "id": "NoNsclhtUK-4",
        "outputId": "7b8d4566-bc25-4087-b848-ba255f142412"
      },
      "execution_count": 4,
      "outputs": [
        {
          "output_type": "execute_result",
          "data": {
            "text/plain": [
              "2.620538882402765"
            ]
          },
          "metadata": {},
          "execution_count": 4
        }
      ]
    },
    {
      "cell_type": "code",
      "source": [
        "b0 = np.mean(ks)-b1*np.mean(zp)\n",
        "b0"
      ],
      "metadata": {
        "colab": {
          "base_uri": "https://localhost:8080/"
        },
        "id": "hbZHTGjdUbA5",
        "outputId": "cb14a804-6a86-4e59-c223-c949c6653ee2"
      },
      "execution_count": 5,
      "outputs": [
        {
          "output_type": "execute_result",
          "data": {
            "text/plain": [
              "444.1773573243596"
            ]
          },
          "metadata": {},
          "execution_count": 5
        }
      ]
    },
    {
      "cell_type": "code",
      "source": [
        "y_pred = b0 + b1 * zp\n",
        "y_pred"
      ],
      "metadata": {
        "colab": {
          "base_uri": "https://localhost:8080/"
        },
        "id": "31xIuqiqUc1U",
        "outputId": "4680bd02-739b-40b4-c43e-19424d921d50"
      },
      "execution_count": 6,
      "outputs": [
        {
          "output_type": "execute_result",
          "data": {
            "text/plain": [
              "array([535.89621821, 562.10160703, 942.07974498, 968.2851338 ,\n",
              "       548.99891262, 627.61507909, 585.68645697, 837.25818968,\n",
              "       758.64202321, 732.43663439])"
            ]
          },
          "metadata": {},
          "execution_count": 6
        }
      ]
    },
    {
      "cell_type": "code",
      "source": [
        "plt.scatter(zp, ks)\n",
        "plt.plot(zp, y_pred)"
      ],
      "metadata": {
        "colab": {
          "base_uri": "https://localhost:8080/",
          "height": 447
        },
        "id": "ZTFgBFsZUjXj",
        "outputId": "95117e8f-7746-420c-f4eb-cffea93041b8"
      },
      "execution_count": 7,
      "outputs": [
        {
          "output_type": "execute_result",
          "data": {
            "text/plain": [
              "[<matplotlib.lines.Line2D at 0x7f93b85095a0>]"
            ]
          },
          "metadata": {},
          "execution_count": 7
        },
        {
          "output_type": "display_data",
          "data": {
            "text/plain": [
              "<Figure size 640x480 with 1 Axes>"
            ],
            "image/png": "[encoded data removed]"
          },
          "metadata": {}
        }
      ]
    },
    {
      "cell_type": "code",
      "source": [
        "mse_ = np.sum(((b0 + b1 * zp) - ks) ** 2 / n)\n",
        "mse_"
      ],
      "metadata": {
        "colab": {
          "base_uri": "https://localhost:8080/"
        },
        "id": "bg5rpKwGUtsv",
        "outputId": "e913c3f9-021f-490f-e012-085ab536128b"
      },
      "execution_count": 8,
      "outputs": [
        {
          "output_type": "execute_result",
          "data": {
            "text/plain": [
              "6470.414201176659"
            ]
          },
          "metadata": {},
          "execution_count": 8
        }
      ]
    },
    {
      "cell_type": "code",
      "source": [
        "mse_ = ((ks - y_pred)**2).sum() / n\n",
        "mse_"
      ],
      "metadata": {
        "colab": {
          "base_uri": "https://localhost:8080/"
        },
        "id": "U5prwHR0UvpM",
        "outputId": "22c6f39f-3671-45b4-ca03-eefc6708f1ba"
      },
      "execution_count": 9,
      "outputs": [
        {
          "output_type": "execute_result",
          "data": {
            "text/plain": [
              "6470.414201176658"
            ]
          },
          "metadata": {},
          "execution_count": 9
        }
      ]
    },
    {
      "cell_type": "markdown",
      "source": [
        "**без interсept**"
      ],
      "metadata": {
        "id": "RVWOyzFKU2K2"
      }
    },
    {
      "cell_type": "code",
      "source": [
        "zp1 = zp.reshape(1, n)\n",
        "ks1 = ks.reshape(1, n)"
      ],
      "metadata": {
        "id": "lO809ENeU4Yg"
      },
      "execution_count": 10,
      "outputs": []
    },
    {
      "cell_type": "code",
      "source": [
        "b1 = np.dot(np.dot(np.linalg.inv(np.dot(zp1, zp1.T)), zp1), ks1.T)[0][0]\n",
        "b1"
      ],
      "metadata": {
        "colab": {
          "base_uri": "https://localhost:8080/"
        },
        "id": "flF6R4LZU9m4",
        "outputId": "7fbd3cdd-42e1-4f42-dca9-38a69245bbf0"
      },
      "execution_count": 11,
      "outputs": [
        {
          "output_type": "execute_result",
          "data": {
            "text/plain": [
              "5.889820420132689"
            ]
          },
          "metadata": {},
          "execution_count": 11
        }
      ]
    },
    {
      "cell_type": "code",
      "source": [
        "y_pred1 = b1 * zp\n",
        "y_pred1"
      ],
      "metadata": {
        "colab": {
          "base_uri": "https://localhost:8080/"
        },
        "id": "5wu3JaNqVDbc",
        "outputId": "d9e5760e-9a67-4362-8b73-5d1f2f264198"
      },
      "execution_count": 12,
      "outputs": [
        {
          "output_type": "execute_result",
          "data": {
            "text/plain": [
              "array([ 206.1437147 ,  265.04191891, 1119.06587983, 1177.96408403,\n",
              "        235.59281681,  412.28742941,  318.05030269,  883.47306302,\n",
              "        706.77845042,  647.88024621])"
            ]
          },
          "metadata": {},
          "execution_count": 12
        }
      ]
    },
    {
      "cell_type": "code",
      "source": [
        "plt.scatter(zp, ks)\n",
        "plt.plot(zp, y_pred, 'b', label = 'с intercept')\n",
        "plt.plot(zp, y_pred1, 'r', label = 'без interсept')\n",
        "plt.legend()"
      ],
      "metadata": {
        "colab": {
          "base_uri": "https://localhost:8080/",
          "height": 447
        },
        "id": "mifFITdVVFDi",
        "outputId": "3748d96b-20a6-46f4-e414-b393235113c5"
      },
      "execution_count": 13,
      "outputs": [
        {
          "output_type": "execute_result",
          "data": {
            "text/plain": [
              "<matplotlib.legend.Legend at 0x7f93b81eb730>"
            ]
          },
          "metadata": {},
          "execution_count": 13
        },
        {
          "output_type": "display_data",
          "data": {
            "text/plain": [
              "<Figure size 640x480 with 1 Axes>"
            ],
            "image/png": "[encoded data removed]"
          },
          "metadata": {}
        }
      ]
    },
    {
      "cell_type": "markdown",
      "source": [
        "**Задача 2**\n",
        "\n",
        "Посчитать коэффициент линейной регрессии при заработной плате (zp), используя\n",
        "градиентный спуск (без intercept)."
      ],
      "metadata": {
        "id": "4KwvjF-eVTVk"
      }
    },
    {
      "cell_type": "code",
      "source": [
        "alpha = 1e-6\n",
        "b1 = 0.1"
      ],
      "metadata": {
        "id": "ZvjU8hv6VWhF"
      },
      "execution_count": 14,
      "outputs": []
    },
    {
      "cell_type": "code",
      "source": [
        "def mse_(b1, y=ks, X=zp, n=10):\n",
        "    return np.sum((b1 * X - y) ** 2) / n"
      ],
      "metadata": {
        "id": "eF5mG3_FVZ5x"
      },
      "execution_count": 15,
      "outputs": []
    },
    {
      "cell_type": "code",
      "source": [
        "for i in range(1000):\n",
        "    fp = (1 / n) * np.sum(2 * (b1 * zp - ks) * zp)\n",
        "    b1 -= alpha * fp\n",
        "    if i % 100 == 0:\n",
        "        print(f'Итерация: {i}, b1 : {b1}, mse: {mse_(b1) }')"
      ],
      "metadata": {
        "colab": {
          "base_uri": "https://localhost:8080/"
        },
        "id": "B1Mjy6dvVdTO",
        "outputId": "c195aaca-af72-488c-c30e-081e6134436e"
      },
      "execution_count": 17,
      "outputs": [
        {
          "output_type": "stream",
          "name": "stdout",
          "text": [
            "Итерация: 0, b1 : 0.25952808000000005, mse: 493237.7212546963\n",
            "Итерация: 100, b1 : 5.54537842245223, mse: 58151.31823171113\n",
            "Итерация: 200, b1 : 5.868748638669329, mse: 56522.97550129376\n",
            "Итерация: 300, b1 : 5.888531320728348, mse: 56516.88130936019\n",
            "Итерация: 400, b1 : 5.8897415574471985, mse: 56516.85850140053\n",
            "Итерация: 500, b1 : 5.889815595583751, mse: 56516.858416040064\n",
            "Итерация: 600, b1 : 5.889820124983314, mse: 56516.85841572062\n",
            "Итерация: 700, b1 : 5.889820402076462, mse: 56516.85841571941\n",
            "Итерация: 800, b1 : 5.88982041902807, mse: 56516.8584157194\n",
            "Итерация: 900, b1 : 5.889820420065112, mse: 56516.85841571941\n"
          ]
        }
      ]
    },
    {
      "cell_type": "code",
      "source": [
        "y_pred2 = b1 * zp\n",
        "y_pred2"
      ],
      "metadata": {
        "colab": {
          "base_uri": "https://localhost:8080/"
        },
        "id": "puLTNQFCVyyv",
        "outputId": "f02333e6-1f04-4c51-d7dc-123a3eb34c0c"
      },
      "execution_count": 18,
      "outputs": [
        {
          "output_type": "execute_result",
          "data": {
            "text/plain": [
              "array([ 206.1437147 ,  265.04191891, 1119.06587982, 1177.96408403,\n",
              "        235.59281681,  412.28742941,  318.05030269,  883.47306302,\n",
              "        706.77845042,  647.88024621])"
            ]
          },
          "metadata": {},
          "execution_count": 18
        }
      ]
    },
    {
      "cell_type": "code",
      "source": [
        "plt.scatter(zp, ks)\n",
        "plt.plot(zp, y_pred, 'b:', label = 'с intercept')\n",
        "plt.plot(zp, y_pred2, 'r:', label = 'без intercept')\n",
        "plt.legend()"
      ],
      "metadata": {
        "colab": {
          "base_uri": "https://localhost:8080/",
          "height": 447
        },
        "id": "JkeE4tRxV1C5",
        "outputId": "0f9e5906-d83b-4357-c7fe-8ec51140dcea"
      },
      "execution_count": 20,
      "outputs": [
        {
          "output_type": "execute_result",
          "data": {
            "text/plain": [
              "<matplotlib.legend.Legend at 0x7f93b806aa70>"
            ]
          },
          "metadata": {},
          "execution_count": 20
        },
        {
          "output_type": "display_data",
          "data": {
            "text/plain": [
              "<Figure size 640x480 with 1 Axes>"
            ],
            "image/png": "[encoded data removed]"
          },
          "metadata": {}
        }
      ]
    },
    {
      "cell_type": "markdown",
      "source": [
        "**Задача 3**\n",
        "\n",
        " Произвести вычисления как в пункте 2, но с вычислением intercept.\n",
        "\n",
        " Учесть, что\n",
        "изменение коэффициентов должно производиться\n",
        "на каждом шаге одновременно (то есть изменение одного коэффициента не должно\n",
        "влиять на изменение другого во время одной итерации)."
      ],
      "metadata": {
        "id": "N8BO9lj7WIuf"
      }
    },
    {
      "cell_type": "code",
      "source": [
        "alpha = 5e-5\n",
        "\n",
        "b0 = 0.1\n",
        "b1 = 0.1\n",
        "\n",
        "def mse_(b0, b1, y = ks, X = zp, n = 10):\n",
        "    return np.sum((b0 + b1 * X - y) ** 2) / n"
      ],
      "metadata": {
        "id": "bxmkhefWWYtz"
      },
      "execution_count": 21,
      "outputs": []
    },
    {
      "cell_type": "code",
      "source": [
        "for i in range(1000000):\n",
        "    y_pred3 = b0 + b1 * zp\n",
        "    b0 -=alpha * (2 / n) * np.sum((y_pred3 - ks))\n",
        "    b1 -=alpha * (2 / n) * np.sum((y_pred3 - ks)*zp)\n",
        "    if i % 100000 == 0:\n",
        "        print(f\"Итерация: {i}, b1 : {b1}, b0 : {b0}, mse: {mse_(b0,b1)}\")"
      ],
      "metadata": {
        "colab": {
          "base_uri": "https://localhost:8080/"
        },
        "id": "U8erzuSXWZ-W",
        "outputId": "b2a846f1-3f85-472d-ceb4-1d7c112572c3"
      },
      "execution_count": 22,
      "outputs": [
        {
          "output_type": "stream",
          "name": "stdout",
          "text": [
            "Итерация: 0, b1 : 8.07539, b0 : 0.169966, mse: 122360.8044853729\n",
            "Итерация: 100000, b1 : 2.8791831426087984, b0 : 409.03758503899854, mse: 6783.640544683958\n",
            "Итерация: 200000, b1 : 2.641007845630212, b0 : 441.39641524523927, mse: 6472.375953981324\n",
            "Итерация: 300000, b1 : 2.6221587847940984, b0 : 443.9572751113981, mse: 6470.426487736031\n",
            "Итерация: 400000, b1 : 2.6206670805791092, b0 : 444.1599401401525, mse: 6470.414278128017\n",
            "Итерация: 500000, b1 : 2.6205490279352976, b0 : 444.1759789380671, mse: 6470.414201658608\n",
            "Итерация: 600000, b1 : 2.6205396853146192, b0 : 444.177248239628, mse: 6470.414201179677\n",
            "Итерация: 700000, b1 : 2.620538945944757, b0 : 444.1773486914554, mse: 6470.414201176677\n",
            "Итерация: 800000, b1 : 2.6205388874314473, b0 : 444.17735664115577, mse: 6470.41420117666\n",
            "Итерация: 900000, b1 : 2.620538882800784, b0 : 444.1773572702843, mse: 6470.41420117666\n"
          ]
        }
      ]
    },
    {
      "cell_type": "code",
      "source": [
        "# 2.620538882402765\n",
        "# 444.1773573243596"
      ],
      "metadata": {
        "id": "yDcx3uL6WnLM"
      },
      "execution_count": 23,
      "outputs": []
    }
  ]
}